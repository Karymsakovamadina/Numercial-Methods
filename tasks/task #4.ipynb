{
 "cells": [
  {
   "cell_type": "code",
   "execution_count": 14,
   "metadata": {},
   "outputs": [],
   "source": [
    "import numpy as np\n",
    "import math\n",
    "from typing import Tuple, List\n",
    "\n",
    "\n",
    "def matrix_triplet_mult_vector(\n",
    "    t: List[Tuple[int, int, float]],\n",
    "    x: np.ndarray\n",
    ") -> np.ndarray:\n",
    "    n = len(x)\n",
    "    m = len(t)\n",
    "    y = np.zeros(n)\n",
    "\n",
    "    for k in range(m):\n",
    "        i, j, v = t[k]\n",
    "        y[i] += v * x[j]\n",
    "\n",
    "    return y\n",
    "\n",
    "\n",
    "def conjugate_gradient(\n",
    "    a: np.ndarray, \n",
    "    b: np.ndarray,\n",
    "    tol: float, max_iter: int    \n",
    ") -> Tuple[np.ndarray, int]:\n",
    "    n = len(b)\n",
    "    x = np.zeros(n)\n",
    "    r = b - np.dot(a, x)\n",
    "    s = r.copy()\n",
    "\n",
    "    iter = 0\n",
    "\n",
    "    while math.sqrt(np.dot(r, r)) > tol and iter < max_iter:\n",
    "        u = np.dot(a, s)\n",
    "        alpha = np.dot(s, r) / np.dot(s, u)\n",
    "        x = x + alpha * s\n",
    "        r = b - np.dot(a, x)\n",
    "        beta = -np.dot(r, u) / np.dot(s, u)\n",
    "        s = r + beta * s\n",
    "\n",
    "        iter += 1\n",
    "\n",
    "    return x, iter\n",
    "\n",
    "def conjugate_gradient_sym_triplet(\n",
    "    t: List[Tuple[int, int, float]], \n",
    "    b: np.ndarray,\n",
    "    tol: float, max_iter: int    \n",
    ") -> Tuple[np.ndarray, int]:\n",
    "    n = len(b)\n",
    "    x = np.zeros(n)\n",
    "    r = b - matrix_triplet_mult_vector(t, x)\n",
    "    s = r.copy()\n",
    "\n",
    "    iter = 0\n",
    "\n",
    "    while math.sqrt(np.dot(r, r)) > tol and iter < max_iter:\n",
    "        u = matrix_triplet_mult_vector(t, s)\n",
    "        alpha = np.dot(s, r) / np.dot(s, u)\n",
    "        x = x + alpha * s\n",
    "        r = b - matrix_triplet_mult_vector(t, x)\n",
    "        beta = -np.dot(r, u) / np.dot(s, u)\n",
    "        s = r + beta * s\n",
    "\n",
    "        iter += 1\n",
    "\n",
    "    return x, iter\n"
   ]
  },
  {
   "cell_type": "code",
   "execution_count": 15,
   "metadata": {},
   "outputs": [
    {
     "name": "stdout",
     "output_type": "stream",
     "text": [
      "Метод сопряженных градиентов\n",
      "Решение [ 7.91833333 55.69333333  7.835     ]\n",
      "Количество итерации 3\n",
      "Точность [ 4.26325641e-14 -1.13686838e-13  4.26325641e-14]\n"
     ]
    }
   ],
   "source": [
    "a = np.array([\n",
    "    [13, -4., 1.],\n",
    "    [-4., 13., -4.],\n",
    "    [1., -4., 13.]\n",
    "])\n",
    "\n",
    "b = np.array([-112., 661., -113.])\n",
    "\n",
    "x, iter = conjugate_gradient(a, b, 10**-9, 1000)\n",
    "\n",
    "print(\"Метод сопряженных градиентов\")\n",
    "print(f\"Решение {x}\")\n",
    "print(f\"Количество итерации {iter}\")\n",
    "print(f\"Точность {np.dot(a, x) - b}\")"
   ]
  },
  {
   "cell_type": "code",
   "execution_count": 18,
   "metadata": {},
   "outputs": [
    {
     "name": "stdout",
     "output_type": "stream",
     "text": [
      "Метод сопряженных градиентов с симметричным триплет\n",
      "Решение [ 6.87528448 48.17159763 -8.69230769]\n",
      "Количество итерации 24\n",
      "Точность [-4.11489509e-10 -2.75011379e+01 -1.85811106e+02]\n"
     ]
    }
   ],
   "source": [
    "t = [\n",
    "    [0, 0, 13.],\n",
    "    [0, 1, -4.],\n",
    "    [0, 2, 1.],\n",
    "    [1, 1, 13.],\n",
    "    [1, 2, -4.],\n",
    "    [2, 2, 13.]\n",
    "]\n",
    "\n",
    "b = np.array([-112., 661., -113.])\n",
    "\n",
    "x, iter = conjugate_gradient_sym_triplet(t, b, 10**-9, 1000)\n",
    "\n",
    "print(\"Метод сопряженных градиентов с симметричным триплет\")\n",
    "print(f\"Решение {x}\")\n",
    "print(f\"Количество итерации {iter}\")\n",
    "print(f\"Точность {np.dot(a, x) - b}\")"
   ]
  },
  {
   "cell_type": "code",
   "execution_count": null,
   "metadata": {},
   "outputs": [],
   "source": []
  }
 ],
 "metadata": {
  "kernelspec": {
   "display_name": "Python 3",
   "language": "python",
   "name": "python3"
  },
  "language_info": {
   "codemirror_mode": {
    "name": "ipython",
    "version": 3
   },
   "file_extension": ".py",
   "mimetype": "text/x-python",
   "name": "python",
   "nbconvert_exporter": "python",
   "pygments_lexer": "ipython3",
   "version": "3.8.5"
  }
 },
 "nbformat": 4,
 "nbformat_minor": 4
}
