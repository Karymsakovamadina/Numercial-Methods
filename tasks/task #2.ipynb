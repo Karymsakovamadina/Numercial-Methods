{
 "cells": [
  {
   "cell_type": "code",
   "execution_count": 33,
   "metadata": {},
   "outputs": [],
   "source": [
    "import numpy as np\n",
    "import math\n",
    "\n",
    "def gauss_elimination(a: np.ndarray, b: np.ndarray) -> np.ndarray:\n",
    "    n = len(b)\n",
    "\n",
    "    for k in range(0, n - 1):\n",
    "        for i in range(k + 1, n):\n",
    "            l = a[i, k] / a[k, k]\n",
    "            a[i, k + 1:n] = a[i, k + 1:n] - l * a[k, k + 1:n]\n",
    "            b[i] = b[i] - l * b[k]\n",
    "\n",
    "    for k in range(n - 1, -1, -1):\n",
    "        b[k] = (b[k] - np.dot(a[k, k + 1:n], b[k + 1:n])) / a[k, k]\n",
    "\n",
    "    return b\n",
    "\n",
    "\n",
    "def lu_decomposition(a: np.ndarray) -> np.ndarray:\n",
    "    n = len(a)\n",
    "\n",
    "    for k in range(0, n - 1):\n",
    "        for i in range(k + 1, n):\n",
    "            l = a[i, k] / a[k, k]\n",
    "            a[i, k + 1:n] = a[i, k + 1:n] - l * a[k, k + 1:n]\n",
    "            a[i, k] = l\n",
    "\n",
    "    return a\n",
    "\n",
    "\n",
    "def lu_solve(a: np.ndarray, b: np.ndarray) -> np.ndarray:\n",
    "    n = len(a)\n",
    "\n",
    "    for k in range(1, n):\n",
    "        b[k] = b[k] - np.dot(a[k, 0:k], b[0:k])\n",
    "\n",
    "    b[n - 1] = b[n - 1] / a[n - 1, n - 1]\n",
    "\n",
    "    for k in range(n - 2, -1, -1):\n",
    "        b[k] = (b[k] - np.dot(a[k, k + 1:n], b[k + 1:n])) / a[k, k]\n",
    "\n",
    "    return b\n",
    "\n",
    "\n",
    "def choleski_decomposition(a: np.ndarray) -> np.ndarray:\n",
    "    n = len(a)\n",
    "\n",
    "    for k in range(n):\n",
    "        a[k, k] = math.sqrt(a[k, k] - np.dot(a[k, 0:k], a[k, 0:k]))\n",
    "\n",
    "        for i in range(k + 1, n):\n",
    "            a[i, k] = (a[i, k] - np.dot(a[i, 0:k], a[k, 0:k])) / a[k, k]\n",
    "\n",
    "    for k in range(1, n):\n",
    "        a[0:k, k] = 0.\n",
    "\n",
    "    return a\n",
    "\n",
    "\n",
    "def choleski_solve(a: np.ndarray, b: np.ndarray) -> np.ndarray:\n",
    "    n = len(b)\n",
    "\n",
    "    for k in range(n):\n",
    "        b[k] = (b[k] - np.dot(a[k, 0:k], b[0:k])) / a[k, k]\n",
    "\n",
    "    for k in range(n - 1, -1, -1):\n",
    "        b[k] = (b[k] - np.dot(a[k + 1:n, k], b[k + 1:n])) / a[k, k]\n",
    "\n",
    "    return b\n",
    "\n",
    "\n",
    "def lu_3_diag_decomposition(c: np.ndarray, d: np.ndarray, e: np.ndarray):\n",
    "    n = len(d)\n",
    "\n",
    "    for k in range(1, n):\n",
    "        l = c[k - 1] / d[k - 1]\n",
    "        d[k] = d[k] - l * e[k - 1]\n",
    "        c[k - 1] = l\n",
    "\n",
    "    return c, d, e\n",
    "\n",
    "\n",
    "def lu_3_diag_solve(c: np.ndarray, d: np.ndarray, e: np.ndarray, b: np.ndarray):\n",
    "    n = len(d)\n",
    "\n",
    "    for k in range(1, n):\n",
    "        b[k] = b[k] - c[k - 1] * b[k - 1]\n",
    "\n",
    "    b[n - 1] = b[n - 1] / d[n - 1]\n",
    "\n",
    "    for k in range(n - 2, -1, -1):\n",
    "        b[k] = (b[k] - e[k] * b[k + 1]) / d[k]\n",
    "\n",
    "    return b\n",
    "\n",
    "\n",
    "def matrix_3_diag_mult_vector(\n",
    "    c: np.ndarray, d: np.ndarray, e: np.ndarray, \n",
    "    x: np.ndarray\n",
    ") -> np.ndarray:\n",
    "    n = len(d)\n",
    "    y = np.zeros(n)\n",
    "\n",
    "    for i in range(n):\n",
    "        ce = c[i - 1] if i > 0 else 0\n",
    "        xc = x[i - 1] if i > 0 else 0\n",
    "\n",
    "        de = d[i]\n",
    "        xd = x[i]\n",
    "\n",
    "        ee = e[i] if i < n - 1 else 0\n",
    "        xe = x[i + 1] if i < n - 1 else 0\n",
    "\n",
    "        y[i] = ce * xc + de * xd + ee * xe\n",
    "\n",
    "    return y\n"
   ]
  },
  {
   "cell_type": "code",
   "execution_count": 34,
   "metadata": {},
   "outputs": [],
   "source": [
    "a = np.array([\n",
    "    [13., -4., 1.],\n",
    "    [-4., 13., -4.],\n",
    "    [1.,  -4., 13.]\n",
    "])\n",
    "\n",
    "b = np.array([-112., 661., -113.])"
   ]
  },
  {
   "cell_type": "code",
   "execution_count": 35,
   "metadata": {},
   "outputs": [
    {
     "name": "stdout",
     "output_type": "stream",
     "text": [
      "Метод Гаусса\n",
      "Решение [ 7.91833333 55.69333333  7.835     ]\n",
      "Ошибка [-1.42108547e-14  0.00000000e+00 -1.42108547e-14]\n"
     ]
    }
   ],
   "source": [
    "x = gauss_elimination(np.copy(a), np.copy(b))\n",
    "\n",
    "print(\"Метод Гаусса\")\n",
    "print(f\"Решение {x}\")\n",
    "print(f\"Ошибка {np.dot(a, x) - b}\")"
   ]
  },
  {
   "cell_type": "code",
   "execution_count": 36,
   "metadata": {},
   "outputs": [
    {
     "name": "stdout",
     "output_type": "stream",
     "text": [
      "LU разложение\n",
      "Решение [ 7.91833333 55.69333333  7.835     ]\n",
      "Ошибка [-1.42108547e-14  0.00000000e+00 -1.42108547e-14]\n"
     ]
    }
   ],
   "source": [
    "lu = lu_decomposition(a.copy())\n",
    "\n",
    "x = lu_solve(lu, b.copy())\n",
    "\n",
    "print(\"LU разложение\")\n",
    "print(f\"Решение {x}\")\n",
    "print(f\"Ошибка {np.dot(a, x) - b}\")"
   ]
  },
  {
   "cell_type": "code",
   "execution_count": 37,
   "metadata": {},
   "outputs": [
    {
     "name": "stdout",
     "output_type": "stream",
     "text": [
      "Метод Холецкого\n",
      "Решение [ 7.91833333 55.69333333  7.835     ]\n",
      "Ошибка [ 0.00000000e+00  0.00000000e+00 -1.42108547e-14]\n"
     ]
    }
   ],
   "source": [
    "chol = choleski_decomposition(a.copy())\n",
    "x = choleski_solve(chol, b.copy())\n",
    "\n",
    "print(\"Метод Холецкого\")\n",
    "print(f\"Решение {x}\")\n",
    "print(f\"Ошибка {np.dot(a, x) - b}\")"
   ]
  },
  {
   "cell_type": "code",
   "execution_count": 38,
   "metadata": {},
   "outputs": [
    {
     "name": "stdout",
     "output_type": "stream",
     "text": [
      "LU для трехдиагональной матрицы\n",
      "Решение [ 568.0219697  1725.10984848 1393.52727273 1909.52651515 1492.10530303]\n",
      "Ошибка [2.27373675e-13 1.81898940e-12 0.00000000e+00 0.00000000e+00\n",
      " 0.00000000e+00]\n"
     ]
    }
   ],
   "source": [
    "\n",
    "\n",
    "a = np.array([\n",
    "    [19., -4., 0., 0., 0.],\n",
    "    [-4., 19., -4., 0, 0.],\n",
    "    [0.,  -4., 19., -4, 0],\n",
    "    [0., 0., -4., 19., -4],\n",
    "    [0., 0., 0., -4., 19.]\n",
    "])\n",
    "d = np.ones((5)) * 5.\n",
    "c = np.ones((4)) * (-1)\n",
    "\n",
    "b = np.array([1115., 6664., 3333., 6662., 5551.])\n",
    "\n",
    "e = c.copy()\n",
    "\n",
    "ct, dt, et = lu_3_diag_decomposition(c.copy(), d.copy(), e.copy())\n",
    "x = lu_3_diag_solve(ct, dt, et, b.copy())\n",
    "\n",
    "\n",
    "print(\"LU для трехдиагональной матрицы\")\n",
    "print(f\"Решение {x}\")\n",
    "print(f\"Ошибка {matrix_3_diag_mult_vector(c, d, e, x) - b}\")"
   ]
  },
  {
   "cell_type": "code",
   "execution_count": null,
   "metadata": {},
   "outputs": [],
   "source": []
  }
 ],
 "metadata": {
  "kernelspec": {
   "display_name": "Python 3",
   "language": "python",
   "name": "python3"
  },
  "language_info": {
   "codemirror_mode": {
    "name": "ipython",
    "version": 3
   },
   "file_extension": ".py",
   "mimetype": "text/x-python",
   "name": "python",
   "nbconvert_exporter": "python",
   "pygments_lexer": "ipython3",
   "version": "3.8.5"
  }
 },
 "nbformat": 4,
 "nbformat_minor": 4
}
