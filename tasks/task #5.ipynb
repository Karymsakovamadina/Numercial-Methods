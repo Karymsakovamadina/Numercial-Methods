{
 "cells": [
  {
   "cell_type": "code",
   "execution_count": 9,
   "metadata": {},
   "outputs": [
    {
     "name": "stdout",
     "output_type": "stream",
     "text": [
      "Собственные значения:\n",
      "[19.17890835 12.          7.82109165]\n",
      "\n",
      "Собственные векторы:\n",
      "[[-5.21546999e-01  7.07106781e-01  4.77481651e-01]\n",
      " [ 6.75261027e-01 -3.48687529e-16  7.37578840e-01]\n",
      " [-5.21546999e-01 -7.07106781e-01  4.77481651e-01]]\n",
      "Точность 1.2228900810009267\n"
     ]
    }
   ],
   "source": [
    "import numpy as np\n",
    "\n",
    "a = np.array([[13, -4, 1], [-4, 13, -4], [1, -4, 13]])\n",
    "\n",
    "eigenvalues, eigenvectors = np.linalg.eig(a)\n",
    "\n",
    "print(\"Собственные значения:\")\n",
    "print(eigenvalues)\n",
    "\n",
    "print(\"\\nСобственные векторы:\")\n",
    "print(eigenvectors)\n",
    "\n",
    "reconstructed_matrix = np.dot(np.dot(np.linalg.inv(eigenvectors), np.diag(eigenvalues)), eigenvectors.T)\n",
    "\n",
    "relative_error = np.linalg.norm(a - reconstructed_matrix) / np.linalg.norm(a)\n",
    "\n",
    "print(\"Точность\", relative_error)"
   ]
  },
  {
   "cell_type": "code",
   "execution_count": null,
   "metadata": {},
   "outputs": [],
   "source": []
  }
 ],
 "metadata": {
  "kernelspec": {
   "display_name": "Python 3",
   "language": "python",
   "name": "python3"
  },
  "language_info": {
   "codemirror_mode": {
    "name": "ipython",
    "version": 3
   },
   "file_extension": ".py",
   "mimetype": "text/x-python",
   "name": "python",
   "nbconvert_exporter": "python",
   "pygments_lexer": "ipython3",
   "version": "3.8.5"
  }
 },
 "nbformat": 4,
 "nbformat_minor": 4
}
