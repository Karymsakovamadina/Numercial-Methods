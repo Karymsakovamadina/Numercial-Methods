{
 "cells": [
  {
   "cell_type": "code",
   "execution_count": 9,
   "metadata": {},
   "outputs": [],
   "source": [
    "import numpy as np\n",
    "import math\n",
    "from typing import Tuple\n",
    "\n",
    "\n",
    "def gauss_seidel(\n",
    "    a: np.ndarray, \n",
    "    b: np.ndarray, \n",
    "    tol: float, max_iter: int\n",
    ") -> Tuple[np.ndarray, int]:\n",
    "    n = len(b)\n",
    "    x = np.zeros(n)    \n",
    "    dx = 2 * tol\n",
    "\n",
    "    iter = 0\n",
    "\n",
    "    while dx > tol and iter < max_iter:\n",
    "        x_old = x.copy()\n",
    "\n",
    "        for i in range(n):\n",
    "            x[i] = (b[i] - np.dot(a[i, :], x) + a[i, i] * x[i]) / a[i, i]\n",
    "\n",
    "        dx = math.sqrt(np.dot(x - x_old, x - x_old))        \n",
    "        iter += 1\n",
    "\n",
    "    return x, iter\n",
    "\n",
    "\n",
    "def gauss_seidel_relax(\n",
    "    a: np.ndarray, \n",
    "    b: np.ndarray, \n",
    "    tol: float, max_iter: int\n",
    ") -> Tuple[np.ndarray, int]:\n",
    "    n = len(b)\n",
    "    x = np.zeros(n)    \n",
    "    dx = 2 * tol\n",
    "\n",
    "    omega = 1.\n",
    "    k = 10\n",
    "    p = 1\n",
    "\n",
    "    iter = 0\n",
    "\n",
    "    while dx > tol and iter < max_iter:\n",
    "        x_old = x.copy()\n",
    "\n",
    "        for i in range(n):\n",
    "            x[i] = omega * (b[i] - np.dot(a[i, :], x) + a[i, i] * x[i]) / a[i, i] + (1 - omega) * x[i]\n",
    "\n",
    "        dx = math.sqrt(np.dot(x - x_old, x - x_old))        \n",
    "        iter += 1\n",
    "\n",
    "        if iter % k == 0:\n",
    "            dx1 = dx\n",
    "\n",
    "        if iter % (k + p) == 0:\n",
    "            dx2 = dx\n",
    "            omega = 2./(1. + math.sqrt(1. - (dx2 / dx1)**(1./p)))\n",
    "\n",
    "    return x, iter\n"
   ]
  },
  {
   "cell_type": "code",
   "execution_count": 10,
   "metadata": {},
   "outputs": [
    {
     "name": "stdout",
     "output_type": "stream",
     "text": [
      "Метод Гаусс-Зейделя\n",
      "Решение [ 7.91833333 55.69333333  7.835     ]\n",
      "Количество итерации 14\n",
      "Точность [-8.01392730e-10 -1.13118404e-10  0.00000000e+00]\n"
     ]
    }
   ],
   "source": [
    "a = np.array([\n",
    "    [13, -4., 1.],\n",
    "    [-4., 13., -4.],\n",
    "    [1., -4., 13.]\n",
    "])\n",
    "\n",
    "b = np.array([-112., 661., -113.])\n",
    "\n",
    "x, iter = gauss_seidel(a, b, 10**-9, 1000)\n",
    "\n",
    "print(\"Метод Гаусс-Зейделя\")\n",
    "print(f\"Решение {x}\")\n",
    "print(f\"Количество итерации {iter}\")\n",
    "print(f\"Точность {np.dot(a, x) - b}\")"
   ]
  },
  {
   "cell_type": "code",
   "execution_count": null,
   "metadata": {},
   "outputs": [],
   "source": []
  }
 ],
 "metadata": {
  "kernelspec": {
   "display_name": "Python 3",
   "language": "python",
   "name": "python3"
  },
  "language_info": {
   "codemirror_mode": {
    "name": "ipython",
    "version": 3
   },
   "file_extension": ".py",
   "mimetype": "text/x-python",
   "name": "python",
   "nbconvert_exporter": "python",
   "pygments_lexer": "ipython3",
   "version": "3.8.5"
  }
 },
 "nbformat": 4,
 "nbformat_minor": 4
}
