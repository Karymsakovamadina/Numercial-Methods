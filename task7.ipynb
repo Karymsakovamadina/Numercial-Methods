{
 "cells": [
  {
   "cell_type": "code",
   "execution_count": 6,
   "metadata": {},
   "outputs": [],
   "source": [
    "import numpy as np\n",
    "from typing import Callable, Tuple\n",
    "\n",
    "\n",
    "def jacobian(\n",
    "    f: Callable[[np.ndarray], np.ndarray], \n",
    "    x: np.ndarray, h: float\n",
    ") -> Tuple[np.ndarray, np.ndarray]:\n",
    "    n = len(x)    \n",
    "    jac = np.zeros((n, n))\n",
    "    f0 = f(x)\n",
    "\n",
    "    for i in range(n):\n",
    "        t = x[i]\n",
    "        x[i] = t + h\n",
    "        f1 = f(x)\n",
    "        x[i] = t\n",
    "\n",
    "        jac[:, i] = (f1 - f0) / h\n",
    "\n",
    "    return jac, f0\n",
    "\n",
    "\n",
    "def gauss_elimination(a: np.ndarray, b: np.ndarray) -> np.ndarray:\n",
    "    n = len(b)\n",
    "\n",
    "    for k in range(0, n - 1):\n",
    "        for i in range(k + 1, n):\n",
    "            l = a[i, k] / a[k, k]\n",
    "            a[i, k + 1:n] = a[i, k + 1:n] - l * a[k, k + 1:n]\n",
    "            b[i] = b[i] - l * b[k]\n",
    "\n",
    "    for k in range(n - 1, -1, -1):\n",
    "        b[k] = (b[k] - np.dot(a[k, k + 1:n], b[k + 1:n])) / a[k, k]\n",
    "\n",
    "    return b\n",
    "\n",
    "\n",
    "def newton_raphson_system(\n",
    "    f: Callable[[np.ndarray], np.ndarray],\n",
    "    x: np.ndarray,\n",
    "    h: float, tol: float, max_iter: int\n",
    ") -> Tuple[np.ndarray, int]:\n",
    "    dx = 2 * tol * np.ones(len(x))\n",
    "    iter = 0\n",
    "\n",
    "    while max(abs(dx)) > tol * max(max(abs(x)), 1.) and iter < max_iter:\n",
    "        jac, f0 = jacobian(f, x, h)\n",
    "        dx = gauss_elimination(jac, -f0)\n",
    "\n",
    "        x = x + dx\n",
    "        iter += 1\n",
    "        \n",
    "    return x, iter"
   ]
  },
  {
   "cell_type": "code",
   "execution_count": 18,
   "metadata": {},
   "outputs": [
    {
     "name": "stdout",
     "output_type": "stream",
     "text": [
      "Решение методом Ньютона-Рафсона [-0.25 -0.25]\n",
      "Количетсво итерации 4\n",
      "Погрешность [-7.77156117e-16 -1.44328993e-15]\n"
     ]
    }
   ],
   "source": [
    "def f(x: np.ndarray) -> np.ndarray:\n",
    "    fx = np.zeros(len(x))\n",
    "\n",
    "    fx[0] = x[0] + x[1] + x[0] / x[1] - 0.5 \n",
    "    fx[1] = x[0] * (x[0] + x[1]) / x[1] + 0.5\n",
    "\n",
    "    return fx\n",
    "\n",
    "x = np.array([1.0, 1.0])\n",
    "\n",
    "x, iter = newton_raphson_system(f, x, 10**-4, 10**-9, 100)\n",
    "\n",
    "print(\"Решение методом Ньютона-Рафсона\", x)\n",
    "print(\"Количетсво итерации\", iter)\n",
    "print(\"Погрешность\", f(x))"
   ]
  },
  {
   "cell_type": "code",
   "execution_count": null,
   "metadata": {},
   "outputs": [],
   "source": []
  }
 ],
 "metadata": {
  "kernelspec": {
   "display_name": "Python 3",
   "language": "python",
   "name": "python3"
  },
  "language_info": {
   "codemirror_mode": {
    "name": "ipython",
    "version": 3
   },
   "file_extension": ".py",
   "mimetype": "text/x-python",
   "name": "python",
   "nbconvert_exporter": "python",
   "pygments_lexer": "ipython3",
   "version": "3.8.5"
  }
 },
 "nbformat": 4,
 "nbformat_minor": 4
}
