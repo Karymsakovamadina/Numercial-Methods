{
 "cells": [
  {
   "cell_type": "code",
   "execution_count": 60,
   "metadata": {},
   "outputs": [],
   "source": [
    "import numpy as np\n",
    "import matplotlib.pyplot as plt\n",
    "from scipy.optimize import fsolve\n",
    "import math\n",
    "from typing import Callable, Tuple\n",
    "from numpy import sign\n",
    "from math import sqrt\n",
    "\n",
    "\n",
    "def root_search(\n",
    "    f: Callable[[float], float], \n",
    "    a: float, b: float, dx: float\n",
    ") -> Tuple[float, float]:\n",
    "    x1 = a\n",
    "    f1 = f(x1)\n",
    "\n",
    "    x2 = x1 + dx\n",
    "    f2 = f(x2)\n",
    "\n",
    "    while sign(f1) == sign(f2):\n",
    "        if x1 >= b:\n",
    "            return None, None\n",
    "        \n",
    "        x1 = x2\n",
    "        f1 = f2\n",
    "\n",
    "        x2 = x1 + dx\n",
    "        f2 = f(x2)\n",
    "    else:\n",
    "        return x1, x2\n",
    "    \n",
    "    \n",
    "def bisection(\n",
    "    f: Callable[[float], float],\n",
    "    a: float, b: float, tol: float\n",
    ") -> float:\n",
    "    if abs(f(a)) <= tol:\n",
    "        return a\n",
    "    \n",
    "    if abs(f(b)) <= tol:\n",
    "        return b\n",
    "    \n",
    "    x1 = a\n",
    "    f1 = f(x1)\n",
    "\n",
    "    x2 = b\n",
    "    f2 = f(x2)\n",
    "    \n",
    "    \n",
    "\n",
    "    if sign(f1) == sign(f2):\n",
    "        print(\"here\")\n",
    "        return None\n",
    "    \n",
    "    \n",
    "    while x2 - x1 > tol:\n",
    "        x3 = 0.5 * (x1 + x2)\n",
    "        f3 = f(x3)\n",
    "\n",
    "        if abs(f3) <= tol:\n",
    "            return x3\n",
    "        \n",
    "        if sign(f2) != sign(f3):\n",
    "            x1 = x3\n",
    "            f1 = f3\n",
    "        else:\n",
    "            x2 = x3\n",
    "            f2 = f3\n",
    "            \n",
    "    print(\"Here\")\n",
    "\n",
    "    return (x1 + x2) / 2.\n",
    "\n",
    "\n",
    "def ridder(\n",
    "    f: Callable[[float], float],\n",
    "    a: float, b: float, \n",
    "    tol: float, max_iter: int\n",
    ") -> Tuple[float, int]:\n",
    "    if abs(f(a)) <= tol:\n",
    "        return a, 0\n",
    "    \n",
    "    if abs(f(b)) <= tol:\n",
    "        return b, 0\n",
    "    \n",
    "    x1 = a\n",
    "    f1 = f(x1)\n",
    "\n",
    "    x2 = b\n",
    "    f2 = f(x2)    \n",
    "    \n",
    "    x = 1.\n",
    "    dx = 2 * tol\n",
    "\n",
    "    iter = 0\n",
    "\n",
    "    while abs(dx) > tol * max(abs(x), 1.) and iter < max_iter:\n",
    "        x3 = 0.5 * (x1 + x2)\n",
    "        f3 = f(x3)\n",
    "\n",
    "        s = sqrt(f3**2 - f1*f2)\n",
    "\n",
    "        if s == 0.:\n",
    "            return None, iter\n",
    "\n",
    "        dx = (x3 - x1) * f3 / s\n",
    "\n",
    "        if f1 < f2:\n",
    "            dx = -dx\n",
    "\n",
    "        x = x3 + dx\n",
    "        fx = f(x)\n",
    "\n",
    "        if sign(f3) == sign(fx):\n",
    "            if sign(f1) != sign(fx):\n",
    "                x2 = x\n",
    "                f2 = fx\n",
    "            else:\n",
    "                x1 = x\n",
    "                f1 = fx\n",
    "        else:\n",
    "            x1 = x3\n",
    "            f1 = f3\n",
    "\n",
    "            x2 = x            \n",
    "            f2 = fx\n",
    "\n",
    "        iter += 1\n",
    "\n",
    "    return x, iter\n",
    "        \n",
    "def newton_raphson(\n",
    "    f: Callable[[float], float],\n",
    "    df: Callable[[float], float],\n",
    "    a: float, b: float, \n",
    "    tol: float, max_iter: int\n",
    ") -> Tuple[float, int]:\n",
    "    if abs(f(a)) <= tol:\n",
    "        return a, 0\n",
    "    \n",
    "    if abs(f(b)) <= tol:\n",
    "        return b, 0\n",
    "    \n",
    "    x1 = a\n",
    "    f1 = f(x1)\n",
    "\n",
    "    x2 = b\n",
    "    f2 = f(x2)    \n",
    "\n",
    "    if sign(f1) == sign(f2):\n",
    "        return None, 0\n",
    "    \n",
    "    x = 0.5 * (x1 + x2)\n",
    "    dx = 2 * tol * max(abs(x), 1.)\n",
    "\n",
    "    iter = 0\n",
    "\n",
    "    while abs(dx) > tol * max(abs(x), 1.) and iter < max_iter:\n",
    "        fx = f(x)\n",
    "\n",
    "        if abs(fx) <= tol:\n",
    "            return x, iter\n",
    "        \n",
    "        if sign(f1) != sign(fx):\n",
    "            x2 = x\n",
    "        else:\n",
    "            x1 = x\n",
    "\n",
    "        dfx = df(x)\n",
    "\n",
    "        if abs(dfx) <= tol:\n",
    "            return None, iter\n",
    "        \n",
    "        dx = -fx / dfx\n",
    "        x = x + dx\n",
    "\n",
    "        if (x2 - x)*(x - x1) < 0.:\n",
    "            dx = 0.5 * (x2 - x1)\n",
    "            x = x1 + dx\n",
    "\n",
    "        iter += 1\n",
    "\n",
    "    return x, iter"
   ]
  },
  {
   "cell_type": "code",
   "execution_count": 61,
   "metadata": {},
   "outputs": [
    {
     "data": {
      "image/png": "[encoded data removed]",
      "text/plain": [
       "<Figure size 432x288 with 1 Axes>"
      ]
     },
     "metadata": {
      "needs_background": "light"
     },
     "output_type": "display_data"
    }
   ],
   "source": [
    "def f(x):\n",
    "    return np.sinh(x) * np.sin(x) - 1\n",
    "\n",
    "x = np.linspace(-2 * np.pi, 2 * np.pi, 200)\n",
    "\n",
    "y = np.sinh(x) * np.sin(x)\n",
    "z = y ** 0\n",
    "\n",
    "plt.xlabel('x')\n",
    "plt.grid(True)\n",
    "plt.plot(x, y, label='sinh(x)sin(x)')\n",
    "plt.plot(x, z, label='1')\n",
    "plt.legend(loc='lower right')\n",
    "plt.show()\n"
   ]
  },
  {
   "cell_type": "code",
   "execution_count": 62,
   "metadata": {},
   "outputs": [
    {
     "data": {
      "text/plain": [
       "(-1.0057283267786477, -1.0057263267786476)"
      ]
     },
     "execution_count": 62,
     "metadata": {},
     "output_type": "execute_result"
    }
   ],
   "source": [
    "left_b = -np.pi / 2\n",
    "right_b = np.pi\n",
    "\n",
    "x1, x2 = root_search(f, left_b, right_b, 0.000002)\n",
    "\n",
    "x1, x2"
   ]
  },
  {
   "cell_type": "code",
   "execution_count": 63,
   "metadata": {},
   "outputs": [
    {
     "name": "stdout",
     "output_type": "stream",
     "text": [
      "Методом бисекции -1.0057281766840283\n",
      "Погрешность 3.0777758119882037e-10\n"
     ]
    }
   ],
   "source": [
    "x = bisection(f, left_b, right_b, 10**-9)\n",
    "print(f\"Методом бисекции {x}\")\n",
    "print(f\"Погрешность {abs(f(x))}\")"
   ]
  },
  {
   "cell_type": "code",
   "execution_count": 64,
   "metadata": {},
   "outputs": [
    {
     "name": "stdout",
     "output_type": "stream",
     "text": [
      "Методом Риддера -1.0057281765256207\n",
      "Количество итерации 23\n",
      "Погрешность 4.440892098500626e-16\n"
     ]
    }
   ],
   "source": [
    "x, iter = ridder(f, left_b, right_b, 10**-9, 100)\n",
    "\n",
    "print(f\"Методом Риддера {x}\")\n",
    "print(f\"Количество итерации {iter}\")\n",
    "print(f\"Погрешность {abs(f(x))}\")"
   ]
  },
  {
   "cell_type": "code",
   "execution_count": 67,
   "metadata": {},
   "outputs": [
    {
     "name": "stdout",
     "output_type": "stream",
     "text": [
      "Методом Ньютона-Рафсона -1.0057281765256414\n",
      "Количество итерации 6\n",
      "Погрешность 3.952393967665557e-14\n"
     ]
    }
   ],
   "source": [
    "def df(x):\n",
    "    return np.cos(x) * np.sinh(x) + np.sin(x) * np.cosh(x)\n",
    "    \n",
    "    \n",
    "x, iter = newton_raphson(f, df, left_b, right_b, 10**-9, 100)\n",
    "\n",
    "print(f\"Методом Ньютона-Рафсона {x}\")\n",
    "print(f\"Количество итерации {iter}\")\n",
    "print(f\"Погрешность {abs(f(x))}\")"
   ]
  },
  {
   "cell_type": "code",
   "execution_count": null,
   "metadata": {},
   "outputs": [],
   "source": []
  }
 ],
 "metadata": {
  "kernelspec": {
   "display_name": "Python 3",
   "language": "python",
   "name": "python3"
  },
  "language_info": {
   "codemirror_mode": {
    "name": "ipython",
    "version": 3
   },
   "file_extension": ".py",
   "mimetype": "text/x-python",
   "name": "python",
   "nbconvert_exporter": "python",
   "pygments_lexer": "ipython3",
   "version": "3.8.5"
  }
 },
 "nbformat": 4,
 "nbformat_minor": 4
}
